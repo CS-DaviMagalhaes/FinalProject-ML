{
 "cells": [
  {
   "cell_type": "markdown",
   "metadata": {},
   "source": [
    "## Importación de librerías"
   ]
  },
  {
   "cell_type": "code",
   "execution_count": 1,
   "metadata": {},
   "outputs": [],
   "source": [
    "from sklearn.feature_extraction.text import TfidfVectorizer\n",
    "import pandas as pd\n",
    "from nltk.stem import PorterStemmer\n",
    "from nltk.tokenize import word_tokenize\n",
    "import re\n",
    "from sklearn.decomposition import PCA\n",
    "from sklearn.preprocessing import StandardScaler\n",
    "import numpy as np\n",
    "import nltk\n",
    "from nltk.corpus import words"
   ]
  },
  {
   "cell_type": "code",
   "execution_count": 2,
   "metadata": {},
   "outputs": [
    {
     "name": "stderr",
     "output_type": "stream",
     "text": [
      "[nltk_data] Downloading package punkt to\n",
      "[nltk_data]     /Users/edgarchambilla/nltk_data...\n",
      "[nltk_data]   Package punkt is already up-to-date!\n",
      "[nltk_data] Downloading package words to\n",
      "[nltk_data]     /Users/edgarchambilla/nltk_data...\n",
      "[nltk_data]   Package words is already up-to-date!\n"
     ]
    },
    {
     "data": {
      "text/plain": [
       "True"
      ]
     },
     "execution_count": 2,
     "metadata": {},
     "output_type": "execute_result"
    }
   ],
   "source": [
    "nltk.download('punkt')\n",
    "nltk.download('words')"
   ]
  },
  {
   "cell_type": "markdown",
   "metadata": {},
   "source": [
    "## Procesamiento de datos"
   ]
  },
  {
   "cell_type": "code",
   "execution_count": 4,
   "metadata": {},
   "outputs": [],
   "source": [
    "# Cargar el archivo CSV\n",
    "# --------------------------------\n",
    "datos_train = pd.read_csv('data/train.csv')\n",
    "datos_train['label'] = datos_train['label'].replace({'pos': 1, 'neg': -1})\n",
    "#---------------------------------\n",
    "datos_test = pd.read_csv('data/test.csv')\n"
   ]
  },
  {
   "cell_type": "markdown",
   "metadata": {},
   "source": [
    "Para el procesamiento de los datos vamos a incluir a las palabras dentro del diccionario en ingles. "
   ]
  },
  {
   "cell_type": "code",
   "execution_count": 4,
   "metadata": {},
   "outputs": [],
   "source": [
    "# Preprocesamiento\n",
    "english_words = set(words.words())\n"
   ]
  },
  {
   "cell_type": "markdown",
   "metadata": {},
   "source": [
    "Para este procesamiento estaremos usando el indice del TFID el cual nos brindara una matriz caracteristica de las palabras que se encuentran en el texto. Dando relevancia a las palabras mas significativas."
   ]
  },
  {
   "cell_type": "code",
   "execution_count": 5,
   "metadata": {},
   "outputs": [],
   "source": [
    "class StemmedTfidfVectorizer(TfidfVectorizer):\n",
    "    def build_analyzer(self):\n",
    "        analyzer = super(StemmedTfidfVectorizer, self).build_analyzer()\n",
    "        stemmer = PorterStemmer()\n",
    "        return lambda doc: (stemmer.stem(w) for w in analyzer(doc) \n",
    "                            if not re.fullmatch(r'\\d+', w) \n",
    "                            and w in english_words\n",
    "                            )"
   ]
  },
  {
   "cell_type": "markdown",
   "metadata": {},
   "source": [
    "#### Generacion de un nuevo dataset con las siguientes columnas de nuestra matrix caracteristica:"
   ]
  },
  {
   "cell_type": "code",
   "execution_count": 6,
   "metadata": {},
   "outputs": [],
   "source": [
    "# Crear el vectorizador\n",
    "vectorizer = StemmedTfidfVectorizer(stop_words='english',sublinear_tf=True)\n",
    "\n",
    "# Datos de entrenamiento\n",
    "tfidf_matrix_original = vectorizer.fit_transform(datos_train[\"message\"].values)\n",
    "tfidf_matrix_original = tfidf_matrix_original.astype('float32')\n",
    "tfidf_df_original = pd.DataFrame(tfidf_matrix_original.toarray(), columns=vectorizer.get_feature_names_out())\n",
    "\n",
    "# Datos de para el test\n",
    "tfidf_matrix_test = vectorizer.transform(datos_test[\"message\"].values)\n",
    "tfidf_matrix_test = tfidf_matrix_test.astype('float32')\n",
    "tfidf_df_nuevos = pd.DataFrame(tfidf_matrix_test.toarray(), columns=vectorizer.get_feature_names_out())\n"
   ]
  },
  {
   "cell_type": "code",
   "execution_count": 7,
   "metadata": {},
   "outputs": [],
   "source": [
    "# Insertar la columna de etiquetas como la primera columna\n",
    "tfidf_df_original.insert(0, 'label___', datos_train['label'].values)"
   ]
  },
  {
   "cell_type": "code",
   "execution_count": 8,
   "metadata": {},
   "outputs": [
    {
     "data": {
      "text/plain": [
       "(25000, 19213)"
      ]
     },
     "execution_count": 8,
     "metadata": {},
     "output_type": "execute_result"
    }
   ],
   "source": [
    "tfidf_df_original.shape"
   ]
  },
  {
   "cell_type": "code",
   "execution_count": 9,
   "metadata": {},
   "outputs": [
    {
     "data": {
      "text/plain": [
       "(25000, 19212)"
      ]
     },
     "execution_count": 9,
     "metadata": {},
     "output_type": "execute_result"
    }
   ],
   "source": [
    "tfidf_df_nuevos.shape"
   ]
  },
  {
   "cell_type": "markdown",
   "metadata": {},
   "source": [
    "#### Generación de un nuevo dataset con las siguientes columnas de nuestra matrix caracteristica:"
   ]
  },
  {
   "cell_type": "code",
   "execution_count": 5,
   "metadata": {},
   "outputs": [],
   "source": [
    "# !!!!! DESCOMENTAR PARA GUARDAR LOS DATOS\n",
    "\n",
    "# Print the shape of the matrix\n",
    "# print(\"Shape of the TF-IDF matrix:\", tfidf_matrix.shape)\n",
    "\n",
    "# tfidf_df.to_csv('tfidf_values_10values.csv', index=False)\n"
   ]
  },
  {
   "cell_type": "markdown",
   "metadata": {},
   "source": [
    "## Data analysis"
   ]
  },
  {
   "cell_type": "code",
   "execution_count": 10,
   "metadata": {},
   "outputs": [],
   "source": [
    "from sklearn.model_selection import train_test_split\n",
    "from sklearn.preprocessing import StandardScaler\n",
    "from sklearn.decomposition import PCA\n",
    "from sklearn.decomposition import KernelPCA\n",
    "import matplotlib.pyplot as plt"
   ]
  },
  {
   "cell_type": "code",
   "execution_count": null,
   "metadata": {},
   "outputs": [
    {
     "name": "stdout",
     "output_type": "stream",
     "text": [
      "(5087, 26082) (5087,)\n"
     ]
    }
   ],
   "source": [
    "# !!!!!! DESCOMENTAR PARA CARGAR LOS DATOS EN CASO SE QUIERA USAR EL DATASET YA PROCESADO\n",
    "\n",
    "# # importing or loading the dataset\n",
    "# dataset = pd.read_csv('tfidf_values_10values.csv')\n",
    "\n",
    "# # distributing the dataset into two components X and Y\n",
    "# X = dataset.iloc[:, 1:].values\n",
    "# Y = dataset.iloc[:, 0].values\n",
    "# print(X.shape, Y.shape)"
   ]
  },
  {
   "cell_type": "code",
   "execution_count": 11,
   "metadata": {},
   "outputs": [
    {
     "name": "stdout",
     "output_type": "stream",
     "text": [
      "(25000, 19212) (25000,)\n"
     ]
    }
   ],
   "source": [
    "# Dividiendo las variables X e Y en el conjunto de entrenamiento\n",
    "X_train = tfidf_df_original.iloc[:, 1:].values\n",
    "y_train = tfidf_df_original.iloc[:, 0].values\n",
    "print(X_train.shape, y_train.shape)"
   ]
  },
  {
   "cell_type": "code",
   "execution_count": 12,
   "metadata": {},
   "outputs": [
    {
     "name": "stdout",
     "output_type": "stream",
     "text": [
      "(25000, 19212)\n"
     ]
    }
   ],
   "source": [
    "# Testing set\n",
    "X_test = tfidf_df_nuevos.values\n",
    "print(X_test.shape)"
   ]
  },
  {
   "cell_type": "code",
   "execution_count": 11,
   "metadata": {},
   "outputs": [
    {
     "name": "stdout",
     "output_type": "stream",
     "text": [
      "(22500, 19212) (2500, 19212)\n"
     ]
    }
   ],
   "source": [
    "# X_train, X_test, y_train, y_test = train_test_split(X, Y, test_size = 0.1, random_state = 42)\n",
    "# print(X_train.shape, X_test.shape)"
   ]
  },
  {
   "cell_type": "markdown",
   "metadata": {},
   "source": [
    "Aplicamos el Scaler para normalizar los datos y poder aplicar el modelo de regresión logística."
   ]
  },
  {
   "cell_type": "code",
   "execution_count": 13,
   "metadata": {},
   "outputs": [],
   "source": [
    "sc = StandardScaler()\n",
    "\n",
    "X_train = sc.fit_transform(X_train)\n",
    "X_test = sc.transform(X_test)"
   ]
  },
  {
   "cell_type": "markdown",
   "metadata": {},
   "source": [
    "Aplicamos PCA a nuestro dataset para reducir la dimensionalidad de los datos."
   ]
  },
  {
   "cell_type": "markdown",
   "metadata": {},
   "source": [
    "El valor del PCA fue calculado en 0.95. Este valor fue proporcionado por la grafica que se presenta mas adelante."
   ]
  },
  {
   "cell_type": "code",
   "execution_count": 14,
   "metadata": {},
   "outputs": [],
   "source": [
    "pca = PCA(n_components = 11924,)\n",
    "X_train = pca.fit_transform(X_train)"
   ]
  },
  {
   "cell_type": "code",
   "execution_count": 6,
   "metadata": {},
   "outputs": [],
   "source": [
    "# !!! DESCOMENTAR PARA GUARDAR EL MODELO DE PCA\n",
    "# import joblib\n",
    "# joblib.dump(pca, 'pca_configuration.pkl')\n",
    "\n",
    "# !!! DESCOMENTAR PARA CARGAR EL MODELO DE PCA\n",
    "# pca = joblib.load('pca_configuration.pkl')"
   ]
  },
  {
   "cell_type": "code",
   "execution_count": 16,
   "metadata": {},
   "outputs": [],
   "source": [
    "X_test = pca.transform(X_test)"
   ]
  },
  {
   "cell_type": "code",
   "execution_count": 17,
   "metadata": {},
   "outputs": [
    {
     "data": {
      "text/plain": [
       "((25000, 11924), (25000, 11924))"
      ]
     },
     "execution_count": 17,
     "metadata": {},
     "output_type": "execute_result"
    }
   ],
   "source": [
    "X_train.shape, X_test.shape"
   ]
  },
  {
   "cell_type": "code",
   "execution_count": 22,
   "metadata": {},
   "outputs": [],
   "source": [
    "# df_Xtrain = pd.DataFrame(X_train)\n",
    "# df_Xtrain.to_csv('Xtrain.csv', index=False)"
   ]
  },
  {
   "cell_type": "code",
   "execution_count": 18,
   "metadata": {},
   "outputs": [
    {
     "data": {
      "image/png": "[encoded data removed]",
      "text/plain": [
       "<Figure size 700x400 with 1 Axes>"
      ]
     },
     "metadata": {},
     "output_type": "display_data"
    },
    {
     "name": "stdout",
     "output_type": "stream",
     "text": [
      "Number of components that explain at least 95% of the variance: 1\n"
     ]
    }
   ],
   "source": [
    "# Proporción de varianza explicada\n",
    "explained_variance = pca.explained_variance_ratio_\n",
    "\n",
    "# Varianza explicada acumulada\n",
    "cumulative_explained_variance = explained_variance.cumsum()\n",
    "\n",
    "# Graficar la varianza explicada acumulada\n",
    "plt.figure(figsize=(7, 4))\n",
    "plt.plot(range(1, len(cumulative_explained_variance) + 1), cumulative_explained_variance, marker='o', linestyle='--')\n",
    "plt.xlabel('Número de Componentes')\n",
    "plt.ylabel('Varianza Explicada Acumulada')\n",
    "plt.title('Varianza Explicada por Componentes de PCA')\n",
    "plt.grid(True)\n",
    "plt.show()\n",
    "\n",
    "# Imprimir el número de componentes que explican al menos el 95% de la varianza\n",
    "num_components_95 = (cumulative_explained_variance >= 0.95).argmax() + 1\n",
    "print(f'Número de componentes que explican al menos el 95% de la varianza: {num_components_95}')\n"
   ]
  },
  {
   "cell_type": "markdown",
   "metadata": {},
   "source": [
    "### Regresion logistica"
   ]
  },
  {
   "cell_type": "code",
   "execution_count": 7,
   "metadata": {},
   "outputs": [],
   "source": [
    "class RegresionLogistica:\n",
    "    def _init_(self, learning_rate=0.01, epochs=1000):\n",
    "        self.learning_rate = learning_rate\n",
    "        self.epochs = epochs\n",
    "\n",
    "    def sigmoid(self, z):\n",
    "        return 1 / (1 + np.exp(-z))\n",
    "\n",
    "    def fit(self, X, y):\n",
    "        self.m, self.n = X.shape\n",
    "        self.theta = np.zeros(self.n)\n",
    "        self.bias = 0\n",
    "\n",
    "        for epoch in range(self.epochs):\n",
    "            linear_model = np.dot(X, self.theta) + self.bias\n",
    "            y_pred = self.sigmoid(linear_model)\n",
    "\n",
    "            d_theta = (1 / self.m) * np.dot(X.T, (y_pred - y))\n",
    "            d_bias = (1 / self.m) * np.sum(y_pred - y)\n",
    "\n",
    "            self.theta -= self.learning_rate * d_theta\n",
    "            self.bias -= self.learning_rate * d_bias\n",
    "\n",
    "    def predict(self, X):\n",
    "        linear_model = np.dot(X, self.theta) + self.bias\n",
    "        y_pred = self.sigmoid(linear_model)\n",
    "        return [1 if i > 0.5 else 0 for i in y_pred]"
   ]
  },
  {
   "cell_type": "code",
   "execution_count": null,
   "metadata": {},
   "outputs": [],
   "source": [
    "classifier = RegresionLogistica()\n",
    "classifier.fit(X_train, y_train)"
   ]
  },
  {
   "cell_type": "code",
   "execution_count": null,
   "metadata": {},
   "outputs": [],
   "source": [
    "y_pred = classifier.predict(X_test)"
   ]
  },
  {
   "cell_type": "code",
   "execution_count": null,
   "metadata": {},
   "outputs": [],
   "source": [
    "# Mapear los valores de y_pred\n",
    "y_pred_mapped = [\"pos\" if y == 1 else \"neg\" for y in y_pred]\n",
    "\n",
    "# Crear la lista de IDs\n",
    "ids = list(range(0, len(y_pred)))\n",
    "\n",
    "# Crear un nuevo DataFrame con los valores mapeados y los IDs\n",
    "df = pd.DataFrame({\n",
    "    'ids': ids,\n",
    "    'label': y_pred_mapped\n",
    "})\n",
    "\n",
    "# Exportar el DataFrame a un archivo CSV\n",
    "df.to_csv('predictions_logistic_6.csv', index=False)\n"
   ]
  },
  {
   "cell_type": "code",
   "execution_count": 21,
   "metadata": {},
   "outputs": [
    {
     "name": "stdout",
     "output_type": "stream",
     "text": [
      "F1 Score (weighted): 0.8072045695076198\n",
      "F1 Score per class: [0.80131904 0.81274281]\n"
     ]
    }
   ],
   "source": [
    "from sklearn.metrics import confusion_matrix, f1_score\n",
    "\n",
    "cm = confusion_matrix(y_test, y_pred)\n",
    "\n",
    "f1 = f1_score(y_test, y_pred, average='weighted')\n",
    "print(f'F1 Score (weighted): {f1}')\n",
    "\n",
    "f1_per_class = f1_score(y_test, y_pred, average=None)\n",
    "print(f'F1 Score per class: {f1_per_class}')"
   ]
  },
  {
   "cell_type": "code",
   "execution_count": null,
   "metadata": {},
   "outputs": [],
   "source": [
    "import seaborn as sns\n",
    "import matplotlib.pyplot as plt\n",
    "\n",
    "plt.figure(figsize=(5, 4))\n",
    "sns.heatmap(cm, annot=True, fmt='d', cmap='Blues')\n",
    "plt.xlabel('Predicted')\n",
    "plt.ylabel('Actual')\n",
    "plt.title('Confusion Matrix')\n",
    "plt.show()\n"
   ]
  },
  {
   "cell_type": "markdown",
   "metadata": {},
   "source": [
    "# RED NEURONAL"
   ]
  },
  {
   "cell_type": "code",
   "execution_count": 29,
   "metadata": {},
   "outputs": [],
   "source": [
    "import torch\n",
    "import torch.nn as nn\n",
    "import torch.optim as optim"
   ]
  },
  {
   "cell_type": "code",
   "execution_count": 30,
   "metadata": {},
   "outputs": [
    {
     "name": "stdout",
     "output_type": "stream",
     "text": [
      "Using device: cpu\n"
     ]
    }
   ],
   "source": [
    "device = torch.device('cpu')\n",
    "print(f'Using device: {device}')"
   ]
  },
  {
   "cell_type": "code",
   "execution_count": 31,
   "metadata": {},
   "outputs": [],
   "source": [
    "y_train = np.where(y_train == -1, 0, y_train)"
   ]
  },
  {
   "cell_type": "code",
   "execution_count": 38,
   "metadata": {},
   "outputs": [],
   "source": [
    "# Convertir a tensores de PyTorch\n",
    "X_train_tensor = torch.tensor(X_train, dtype=torch.float32).to(device)\n",
    "# y_train_tensor = torch.tensor(y_train, dtype=torch.float32).view(-1, 1).to(device)\n",
    "y_train_tensor = torch.tensor(y_train, dtype=torch.float32).to(device)\n",
    "X_test_tensor = torch.tensor(X_test, dtype=torch.float32).to(device)\n",
    "# y_test_tensor = torch.tensor(y_test, dtype=torch.float32).view(-1, 1).to(device)"
   ]
  },
  {
   "cell_type": "code",
   "execution_count": 39,
   "metadata": {},
   "outputs": [],
   "source": [
    "class model5(nn.Module):\n",
    "    def __init__(self, num_variables):\n",
    "        super().__init__()\n",
    "        self.hidden1 = nn.Linear(num_variables, 256)\n",
    "        self.bn1 = nn.BatchNorm1d(256)\n",
    "        self.act1 = nn.ReLU()\n",
    "        self.dropout1 = nn.Dropout(0.5)\n",
    "        \n",
    "        self.hidden2 = nn.Linear(256, 128)\n",
    "        self.bn2 = nn.BatchNorm1d(128)\n",
    "        self.act2 = nn.ReLU()\n",
    "        self.dropout2 = nn.Dropout(0.5)\n",
    "        \n",
    "        self.hidden3 = nn.Linear(128, 64)\n",
    "        self.bn3 = nn.BatchNorm1d(64)\n",
    "        self.act3 = nn.ReLU()\n",
    "        self.dropout3 = nn.Dropout(0.5)\n",
    "        \n",
    "        self.output = nn.Linear(64, 1)\n",
    "        self.act_output = nn.Sigmoid()\n",
    "\n",
    "    def forward(self, x):\n",
    "        x = self.act1(self.bn1(self.hidden1(x)))\n",
    "        x = self.dropout1(x)\n",
    "        x = self.act2(self.bn2(self.hidden2(x)))\n",
    "        x = self.dropout2(x)\n",
    "        x = self.act3(self.bn3(self.hidden3(x)))\n",
    "        x = self.dropout3(x)\n",
    "        x = self.act_output(self.output(x))\n",
    "        return x"
   ]
  },
  {
   "cell_type": "code",
   "execution_count": 40,
   "metadata": {},
   "outputs": [
    {
     "name": "stdout",
     "output_type": "stream",
     "text": [
      "model5(\n",
      "  (hidden1): Linear(in_features=14000, out_features=256, bias=True)\n",
      "  (bn1): BatchNorm1d(256, eps=1e-05, momentum=0.1, affine=True, track_running_stats=True)\n",
      "  (act1): ReLU()\n",
      "  (dropout1): Dropout(p=0.5, inplace=False)\n",
      "  (hidden2): Linear(in_features=256, out_features=128, bias=True)\n",
      "  (bn2): BatchNorm1d(128, eps=1e-05, momentum=0.1, affine=True, track_running_stats=True)\n",
      "  (act2): ReLU()\n",
      "  (dropout2): Dropout(p=0.5, inplace=False)\n",
      "  (hidden3): Linear(in_features=128, out_features=64, bias=True)\n",
      "  (bn3): BatchNorm1d(64, eps=1e-05, momentum=0.1, affine=True, track_running_stats=True)\n",
      "  (act3): ReLU()\n",
      "  (dropout3): Dropout(p=0.5, inplace=False)\n",
      "  (output): Linear(in_features=64, out_features=1, bias=True)\n",
      "  (act_output): Sigmoid()\n",
      ")\n"
     ]
    }
   ],
   "source": [
    "n_variables = X_train.shape[1]\n",
    "model = model5(num_variables=n_variables).to(device)\n",
    "print(model)\n",
    "\n",
    "loss_fn = nn.BCELoss()  # binary cross entropy\n",
    "optimizer = optim.Adam(model.parameters(), lr=0.001)\n",
    "scheduler = optim.lr_scheduler.ReduceLROnPlateau(optimizer, mode='min', factor=0.1, patience=10)\n",
    "\n",
    "n_epochs = 100\n",
    "batch_size = 16"
   ]
  },
  {
   "cell_type": "code",
   "execution_count": 41,
   "metadata": {},
   "outputs": [
    {
     "name": "stdout",
     "output_type": "stream",
     "text": [
      "Finished epoch 0, latest loss 1.021173119544983\n",
      "Finished epoch 10, latest loss 1.7595778703689575\n",
      "Finished epoch 20, latest loss 0.5837146043777466\n",
      "Finished epoch 30, latest loss 0.5944615006446838\n",
      "Finished epoch 40, latest loss 0.005010257940739393\n",
      "Finished epoch 50, latest loss 0.020400457084178925\n",
      "Finished epoch 60, latest loss 0.002198053291067481\n",
      "Finished epoch 70, latest loss 0.023332126438617706\n",
      "Finished epoch 80, latest loss 0.08503291755914688\n",
      "Finished epoch 90, latest loss 0.007855339907109737\n"
     ]
    }
   ],
   "source": [
    "for epoch in range(n_epochs):\n",
    "    model.train()\n",
    "    for i in range(0, len(X_train_tensor), batch_size):\n",
    "        Xbatch = X_train_tensor[i:i+batch_size]\n",
    "        y_pred = model(Xbatch)\n",
    "        ybatch = y_train_tensor[i:i+batch_size]\n",
    "        loss = loss_fn(y_pred, ybatch.unsqueeze(1))\n",
    "        optimizer.zero_grad()\n",
    "        loss.backward()\n",
    "        optimizer.step()\n",
    "    \n",
    "    scheduler.step(loss)\n",
    "    \n",
    "    if epoch % 10 == 0:\n",
    "        print(f'Finished epoch {epoch}, latest loss {loss.item()}')\n"
   ]
  },
  {
   "cell_type": "code",
   "execution_count": null,
   "metadata": {},
   "outputs": [],
   "source": [
    "model.eval()\n",
    "with torch.no_grad():\n",
    "    # y_pred_train = model(X_train_tensor)\n",
    "    y_pred_test = model(X_test_tensor)"
   ]
  },
  {
   "cell_type": "code",
   "execution_count": 49,
   "metadata": {},
   "outputs": [],
   "source": [
    "y_predictions = (model(X_test_tensor) > 0.1).int()"
   ]
  },
  {
   "cell_type": "code",
   "execution_count": 50,
   "metadata": {},
   "outputs": [
    {
     "name": "stdout",
     "output_type": "stream",
     "text": [
      "         ids label\n",
      "0          0   neg\n",
      "1          1   pos\n",
      "2          2   neg\n",
      "3          3   neg\n",
      "4          4   neg\n",
      "...      ...   ...\n",
      "24995  24995   pos\n",
      "24996  24996   pos\n",
      "24997  24997   neg\n",
      "24998  24998   pos\n",
      "24999  24999   neg\n",
      "\n",
      "[25000 rows x 2 columns]\n"
     ]
    }
   ],
   "source": [
    "# Extraer los valores de los tensores y convertirlos en una lista\n",
    "predictions_list = [int(i.item()) for i in y_predictions]\n",
    "# predictions_list = [\"pos\" if y == 1 else \"neg\" for y in y_pred]\n",
    "Y_NN = [\"pos\" if y == 1 else \"neg\" for y in predictions_list]\n",
    "\n",
    "ids_NN = list(range(0, len(Y_NN)))\n",
    "# Crear un DataFrame con los valores\n",
    "\n",
    "df = pd.DataFrame({\n",
    "    'ids': ids_NN,\n",
    "    'label': Y_NN\n",
    "})\n",
    "# Guardar el DataFrame en un archivo CSV\n",
    "df.to_csv('predictions_NN.csv', index=False)\n",
    "\n",
    "# Mostrar el DataFrame\n",
    "print(df)"
   ]
  }
 ],
 "metadata": {
  "kernelspec": {
   "display_name": "base",
   "language": "python",
   "name": "python3"
  },
  "language_info": {
   "codemirror_mode": {
    "name": "ipython",
    "version": 3
   },
   "file_extension": ".py",
   "mimetype": "text/x-python",
   "name": "python",
   "nbconvert_exporter": "python",
   "pygments_lexer": "ipython3",
   "version": "3.11.7"
  }
 },
 "nbformat": 4,
 "nbformat_minor": 2
}
